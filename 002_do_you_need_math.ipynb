{
 "cells": [
  {
   "cell_type": "markdown",
   "metadata": {},
   "source": [
    "##### Copyright 2020 Lima Vallantin"
   ]
  },
  {
   "cell_type": "raw",
   "metadata": {},
   "source": [
    "# @title Licensed under the Apache License, Version 2.0 (the \"License\");\n",
    "# you may not use this file except in compliance with the License.\n",
    "# You may obtain a copy of the License at\n",
    "#\n",
    "# https://www.apache.org/licenses/LICENSE-2.0\n",
    "#\n",
    "# Unless required by applicable law or agreed to in writing, software\n",
    "# distributed under the License is distributed on an \"AS IS\" BASIS,\n",
    "# WITHOUT WARRANTIES OR CONDITIONS OF ANY KIND, either express or implied.\n",
    "# See the License for the specific language governing permissions and\n",
    "# limitations under the License."
   ]
  },
  {
   "cell_type": "code",
   "execution_count": 1,
   "metadata": {},
   "outputs": [],
   "source": [
    "# import pandas\n",
    "import pandas as pd"
   ]
  },
  {
   "cell_type": "code",
   "execution_count": 2,
   "metadata": {},
   "outputs": [],
   "source": [
    "# import data\n",
    "data = pd.read_csv('data/jobs.csv')"
   ]
  },
  {
   "cell_type": "code",
   "execution_count": 3,
   "metadata": {},
   "outputs": [
    {
     "name": "stdout",
     "output_type": "stream",
     "text": [
      "There is a total of 651 jobs.\n"
     ]
    }
   ],
   "source": [
    "# print the total of positions\n",
    "total_positions = len(data)\n",
    "print('There is a total of {} jobs.'.format(total_positions))"
   ]
  },
  {
   "cell_type": "code",
   "execution_count": 4,
   "metadata": {},
   "outputs": [
    {
     "name": "stdout",
     "output_type": "stream",
     "text": [
      "Skills present on the dataset:\n",
      "pytorch, information_retrieval, nlp, data_mining, bachelor, masters, linguistics, phd, computer_science, python, r, c, c++, spark, keras, opencv, mxnet, computer_vision, statistics, engineering, math, physics, big_data, hive, sql, linux, developer, hadoop, javascript, mongodb, cassandra, numpy, pandas, html, matlab, java\n"
     ]
    }
   ],
   "source": [
    "# get the skills\n",
    "print('Skills present on the dataset:')\n",
    "print(', '.join(list(data.columns)))"
   ]
  },
  {
   "cell_type": "code",
   "execution_count": 5,
   "metadata": {},
   "outputs": [],
   "source": [
    "# define a function that will allow us to see the percentage of jobs\n",
    "# requested skills given a particular skill\n",
    "def get_skill_data(skill):\n",
    "    # phd statistics\n",
    "    skill_data = data[data[skill] == 1]\n",
    "    print('Tehre are {} positions requesting this skill.'.format(len(skill_data)))\n",
    "    skill_data = skill_data.describe().transpose()\n",
    "    skill_data = skill_data.sort_values('mean', ascending=False)\n",
    "    skill_data = skill_data['mean'] * 100\n",
    "    \n",
    "    return skill_data"
   ]
  },
  {
   "cell_type": "code",
   "execution_count": 6,
   "metadata": {},
   "outputs": [
    {
     "data": {
      "text/plain": [
       "engineering              70.967742\n",
       "python                   69.585253\n",
       "computer_science         58.678955\n",
       "pytorch                  47.465438\n",
       "c                        44.854071\n",
       "phd                      42.396313\n",
       "c++                      42.089094\n",
       "statistics               37.480799\n",
       "math                     32.104455\n",
       "keras                    27.956989\n",
       "spark                    27.649770\n",
       "computer_vision          25.652842\n",
       "r                        22.734255\n",
       "nlp                      22.273425\n",
       "java                     22.119816\n",
       "big_data                 20.737327\n",
       "bachelor                 19.815668\n",
       "sql                      19.815668\n",
       "hadoop                   16.436252\n",
       "masters                  16.129032\n",
       "developer                13.824885\n",
       "physics                  11.674347\n",
       "numpy                    10.906298\n",
       "linux                    10.752688\n",
       "pandas                   10.291859\n",
       "matlab                    9.370200\n",
       "data_mining               8.755760\n",
       "mxnet                     8.448541\n",
       "opencv                    7.219662\n",
       "hive                      6.912442\n",
       "javascript                6.605223\n",
       "cassandra                 4.608295\n",
       "mongodb                   3.686636\n",
       "information_retrieval     2.764977\n",
       "html                      2.304147\n",
       "linguistics               1.228879\n",
       "Name: mean, dtype: float64"
      ]
     },
     "execution_count": 6,
     "metadata": {},
     "output_type": "execute_result"
    }
   ],
   "source": [
    "# Get general data statistics\n",
    "skills_data = data.describe().transpose()\n",
    "skills_data = skills_data.sort_values('mean', ascending=False)\n",
    "skills_data = skills_data['mean'] * 100\n",
    "skills_data"
   ]
  },
  {
   "cell_type": "code",
   "execution_count": 7,
   "metadata": {},
   "outputs": [
    {
     "name": "stdout",
     "output_type": "stream",
     "text": [
      "Tehre are 209 positions requesting this skill.\n"
     ]
    },
    {
     "data": {
      "text/plain": [
       "math                     100.000000\n",
       "engineering               84.688995\n",
       "python                    84.688995\n",
       "computer_science          81.818182\n",
       "statistics                68.899522\n",
       "phd                       58.373206\n",
       "pytorch                   55.980861\n",
       "c                         46.411483\n",
       "c++                       44.497608\n",
       "keras                     41.148325\n",
       "spark                     38.755981\n",
       "r                         36.842105\n",
       "nlp                       32.057416\n",
       "java                      30.622010\n",
       "big_data                  30.622010\n",
       "sql                       29.665072\n",
       "masters                   28.229665\n",
       "physics                   28.229665\n",
       "bachelor                  26.315789\n",
       "computer_vision           25.837321\n",
       "hadoop                    21.531100\n",
       "numpy                     17.703349\n",
       "pandas                    16.267943\n",
       "developer                 15.789474\n",
       "data_mining               12.918660\n",
       "matlab                    11.961722\n",
       "opencv                    10.047847\n",
       "linux                      9.569378\n",
       "mxnet                      7.655502\n",
       "hive                       6.698565\n",
       "javascript                 6.698565\n",
       "mongodb                    4.306220\n",
       "cassandra                  4.306220\n",
       "information_retrieval      1.913876\n",
       "html                       1.913876\n",
       "linguistics                1.913876\n",
       "Name: mean, dtype: float64"
      ]
     },
     "execution_count": 7,
     "metadata": {},
     "output_type": "execute_result"
    }
   ],
   "source": [
    "# math statistics\n",
    "get_skill_data('math')"
   ]
  },
  {
   "cell_type": "code",
   "execution_count": 8,
   "metadata": {},
   "outputs": [
    {
     "name": "stdout",
     "output_type": "stream",
     "text": [
      "Tehre are 90 positions requesting this skill.\n"
     ]
    },
    {
     "data": {
      "text/plain": [
       "developer                100.000000\n",
       "python                    85.555556\n",
       "engineering               82.222222\n",
       "computer_science          64.444444\n",
       "c                         58.888889\n",
       "c++                       52.222222\n",
       "pytorch                   51.111111\n",
       "phd                       42.222222\n",
       "statistics                37.777778\n",
       "math                      36.666667\n",
       "spark                     35.555556\n",
       "bachelor                  30.000000\n",
       "keras                     30.000000\n",
       "java                      27.777778\n",
       "r                         25.555556\n",
       "computer_vision           24.444444\n",
       "nlp                       23.333333\n",
       "sql                       23.333333\n",
       "javascript                21.111111\n",
       "pandas                    20.000000\n",
       "numpy                     18.888889\n",
       "big_data                  18.888889\n",
       "masters                   16.666667\n",
       "hadoop                    15.555556\n",
       "linux                     12.222222\n",
       "matlab                    12.222222\n",
       "physics                   10.000000\n",
       "data_mining               10.000000\n",
       "mongodb                   10.000000\n",
       "opencv                    10.000000\n",
       "hive                       6.666667\n",
       "mxnet                      6.666667\n",
       "cassandra                  5.555556\n",
       "html                       5.555556\n",
       "information_retrieval      4.444444\n",
       "linguistics                1.111111\n",
       "Name: mean, dtype: float64"
      ]
     },
     "execution_count": 8,
     "metadata": {},
     "output_type": "execute_result"
    }
   ],
   "source": [
    "# dev statistics\n",
    "get_skill_data('developer')"
   ]
  },
  {
   "cell_type": "code",
   "execution_count": 9,
   "metadata": {},
   "outputs": [
    {
     "name": "stdout",
     "output_type": "stream",
     "text": [
      "Tehre are 276 positions requesting this skill.\n"
     ]
    },
    {
     "data": {
      "text/plain": [
       "phd                      100.000000\n",
       "engineering               85.144928\n",
       "python                    83.695652\n",
       "computer_science          76.449275\n",
       "pytorch                   63.768116\n",
       "c                         58.333333\n",
       "c++                       55.797101\n",
       "statistics                46.739130\n",
       "math                      44.202899\n",
       "computer_vision           38.768116\n",
       "keras                     32.608696\n",
       "nlp                       30.797101\n",
       "java                      28.623188\n",
       "spark                     27.898551\n",
       "r                         26.449275\n",
       "big_data                  23.550725\n",
       "masters                   23.188406\n",
       "physics                   18.478261\n",
       "hadoop                    18.115942\n",
       "sql                       16.304348\n",
       "developer                 13.768116\n",
       "bachelor                  13.043478\n",
       "matlab                    11.594203\n",
       "numpy                     10.869565\n",
       "data_mining               10.507246\n",
       "linux                     10.507246\n",
       "pandas                     9.420290\n",
       "mxnet                      9.420290\n",
       "opencv                     7.971014\n",
       "hive                       6.159420\n",
       "javascript                 4.710145\n",
       "information_retrieval      4.347826\n",
       "cassandra                  3.623188\n",
       "mongodb                    2.898551\n",
       "linguistics                2.536232\n",
       "html                       2.173913\n",
       "Name: mean, dtype: float64"
      ]
     },
     "execution_count": 9,
     "metadata": {},
     "output_type": "execute_result"
    }
   ],
   "source": [
    "# phd statistics\n",
    "get_skill_data('phd')"
   ]
  },
  {
   "cell_type": "code",
   "execution_count": 10,
   "metadata": {},
   "outputs": [
    {
     "name": "stdout",
     "output_type": "stream",
     "text": [
      "Tehre are 145 positions requesting this skill.\n"
     ]
    },
    {
     "data": {
      "text/plain": [
       "nlp                      100.000000\n",
       "python                    86.896552\n",
       "engineering               84.137931\n",
       "pytorch                   63.448276\n",
       "computer_science          63.448276\n",
       "phd                       58.620690\n",
       "statistics                57.241379\n",
       "math                      46.206897\n",
       "c                         44.137931\n",
       "spark                     44.137931\n",
       "c++                       42.758621\n",
       "keras                     37.241379\n",
       "big_data                  35.172414\n",
       "java                      34.482759\n",
       "hadoop                    31.724138\n",
       "computer_vision           28.275862\n",
       "r                         27.586207\n",
       "sql                       26.206897\n",
       "bachelor                  19.310345\n",
       "masters                   19.310345\n",
       "numpy                     16.551724\n",
       "data_mining               15.172414\n",
       "pandas                    14.482759\n",
       "developer                 14.482759\n",
       "physics                   14.482759\n",
       "mxnet                     11.724138\n",
       "linux                     10.344828\n",
       "hive                      10.344828\n",
       "information_retrieval      8.965517\n",
       "javascript                 6.206897\n",
       "opencv                     6.206897\n",
       "mongodb                    4.827586\n",
       "matlab                     4.827586\n",
       "linguistics                4.827586\n",
       "cassandra                  4.137931\n",
       "html                       2.758621\n",
       "Name: mean, dtype: float64"
      ]
     },
     "execution_count": 10,
     "metadata": {},
     "output_type": "execute_result"
    }
   ],
   "source": [
    "# phd statistics\n",
    "get_skill_data('nlp')"
   ]
  },
  {
   "cell_type": "code",
   "execution_count": null,
   "metadata": {},
   "outputs": [],
   "source": []
  }
 ],
 "metadata": {
  "kernelspec": {
   "display_name": "Python 3",
   "language": "python",
   "name": "python3"
  },
  "language_info": {
   "codemirror_mode": {
    "name": "ipython",
    "version": 3
   },
   "file_extension": ".py",
   "mimetype": "text/x-python",
   "name": "python",
   "nbconvert_exporter": "python",
   "pygments_lexer": "ipython3",
   "version": "3.7.4"
  }
 },
 "nbformat": 4,
 "nbformat_minor": 4
}
